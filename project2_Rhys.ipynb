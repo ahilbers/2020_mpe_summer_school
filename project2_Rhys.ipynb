{
 "cells": [
  {
   "cell_type": "code",
   "execution_count": 1,
   "metadata": {},
   "outputs": [],
   "source": [
    "import PyDSTool as dst\n",
    "import numpy as np\n",
    "from matplotlib import pyplot as plt"
   ]
  },
  {
   "cell_type": "code",
   "execution_count": 2,
   "metadata": {},
   "outputs": [
    {
     "name": "stdout",
     "output_type": "stream",
     "text": [
      "LP Point found \n",
      "LP Point found \n"
     ]
    },
    {
     "data": {
      "text/plain": [
       "(0.0, 2.0)"
      ]
     },
     "execution_count": 2,
     "metadata": {},
     "output_type": "execute_result"
    },
    {
     "data": {
      "image/png": "[encoded data removed]",
      "text/plain": [
       "<Figure size 432x288 with 1 Axes>"
      ]
     },
     "metadata": {
      "needs_background": "light"
     },
     "output_type": "display_data"
    }
   ],
   "source": [
    "#1) - Bifurcation diagram - PyDSTool is rather fiddly so I have had to do each bifurcation plot separately\n",
    "#(tried to do at the same time but kept running into strange errors and couldn;t figure out why!)\n",
    "# Name the model\n",
    "DSargs = dst.args(name='Stommel model')\n",
    "\n",
    "#FIRST ONE IF FOR F VS Y\n",
    "\n",
    "#Set initial condition values for later and parameters\n",
    "y0 = 0.1\n",
    "mu=np.sqrt(6.2)\n",
    "\n",
    "# parameters\n",
    "DSargs.pars = { 'mu': mu,\n",
    "               'F': 1.1}\n",
    "\n",
    "# rhs of the differential equation - ie sole for variable y in the following dy/dt\n",
    "DSargs.varspecs = {'y': '( F - y * (1+(mu**2)*((1-y)**2)))'}\n",
    "\n",
    "\n",
    "# initial conditions\n",
    "DSargs.ics      = {'y': y0}\n",
    "\n",
    "DSargs.tdomain = [0,10]                         # set the range of integration.\n",
    "ode  = dst.Generator.Vode_ODEsystem(DSargs)     # an instance of the 'Generator' class.\n",
    "\n",
    "# Prepare the system to start close to a steady state - When F=0, y=0\n",
    "ode.set(pars = {'F': 0, 'mu': np.sqrt(6.2)} )       # Lower bound of the control parameter 'i'\n",
    "ode.set(ics =  {'y': 0})\n",
    "PC = dst.ContClass(ode)            # Set up continuation class\n",
    "\n",
    "PCargs = dst.args(name='EQ1', type='EP-C')     # 'EP-C' stands for Equilibrium Point Curve. The branch will be labeled 'EQ1'.\n",
    "PCargs.freepars     = ['F'] # control parameter(s) (it should be among those specified in DSargs.pars)\n",
    "\n",
    "#The values in the next 4 lines were the cause of all the errors, and it seems completely arbitrary\n",
    "#what you choose for them\n",
    "PCargs.MaxNumPoints = 500                   # The following 3 parameters are set after trial-and-error\n",
    "PCargs.MaxStepSize  = 2e-2\n",
    "PCargs.MinStepSize  = 1e-5\n",
    "PCargs.StepSize     = 2e-2\n",
    "PCargs.LocBifPoints = 'LP'                     # detect limit points / saddle-node bifurcations\n",
    "PCargs.SaveEigen    = True                     # to tell unstable from stable branches\n",
    "\n",
    "#Plot bifurcation result\n",
    "PC.newCurve(PCargs)\n",
    "PC['EQ1'].forward()\n",
    "PC.display(['F','y'], stability=True,figure=1) \n",
    "plt.xlim(0,2)"
   ]
  },
  {
   "cell_type": "code",
   "execution_count": 440,
   "metadata": {},
   "outputs": [
    {
     "name": "stdout",
     "output_type": "stream",
     "text": [
      "LP Point found \n",
      "LP Point found \n"
     ]
    },
    {
     "data": {
      "text/plain": [
       "(0.0, 2.0)"
      ]
     },
     "execution_count": 440,
     "metadata": {},
     "output_type": "execute_result"
    },
    {
     "data": {
      "image/png": "[encoded data removed]",
      "text/plain": [
       "<Figure size 432x288 with 1 Axes>"
      ]
     },
     "metadata": {
      "needs_background": "light"
     },
     "output_type": "display_data"
    }
   ],
   "source": [
    "#NOW WE DO FOR F VS q = (1 + mu*(1-y)**2)\n",
    "DSargs = dst.args(name='Stommel model')\n",
    "\n",
    "y0 = 0.1\n",
    "mu=6.2\n",
    "w_ics = 1 + mu*((1-y0)**2)\n",
    "DSargs.pars = { 'mu': mu,\n",
    "               'F': 1.1}\n",
    "\n",
    "#Write a function which converts y into q\n",
    "DSargs.fnspecs  = {'ytoq': (['q'], '1 - sqrt((q-1)/(mu**2))') }\n",
    "\n",
    "# rhs of the differential equation, reform it into dq/dt = dq/dy * dy/dt\n",
    "DSargs.varspecs = {'q': '-2*(mu**2)*(1-ytoq(q)) * (F - ytoq(q)*q)'}\n",
    "\n",
    "# initial conditions\n",
    "DSargs.ics      = {'q': w_ics}\n",
    "\n",
    "DSargs.tdomain = [0,30]                         # set the range of integration.\n",
    "ode  = dst.Generator.Vode_ODEsystem(DSargs)     # an instance of the 'Generator' class.\n",
    "\n",
    "# Prepare the system to start close to a steady state: This one was a bit strange as I applied F = 0, y=0 -> q=7.2,\n",
    "# and it seemed to work so rolling with it. F=0 -> q=0 ->y y is imaginary and when I tried that it didn't work so\n",
    "# sticking with the original\n",
    "ode.set(pars = {'F': 0, 'mu': np.sqrt(6.2)} )       # Lower bound of the control parameter 'i'\n",
    "ode.set(ics =  {'q': 7.2})\n",
    "PC = dst.ContClass(ode)            # Set up continuation class\n",
    "\n",
    "PCargs = dst.args(name='EQ2', type='EP-C')     # 'EP-C' stands for Equilibrium Point Curve. The branch will be labeled 'EQ1'.\n",
    "PCargs.freepars     = ['F']                    # control parameter(s) (it should be among those specified in DSargs.pars)\n",
    "\n",
    "#Here is when I started to get the errors a lot when varying step sizes etc, doesn;t seem to like it for some reason\n",
    "PCargs.MaxNumPoints = 650                   # The following 3 parameters are set after trial-and-error\n",
    "PCargs.MaxStepSize  = 1e-2\n",
    "PCargs.MinStepSize  = 1e-2\n",
    "PCargs.StepSize     = 1e-2\n",
    "PCargs.LocBifPoints = 'LP'                     # detect limit points / saddle-node bifurcations\n",
    "PCargs.SaveEigen    = True                     # to tell unstable from stable branches\n",
    "\n",
    "#Plot results\n",
    "PC.newCurve(PCargs)\n",
    "PC['EQ2'].backward()\n",
    "PC.display(['F','q'], stability=True,figure=1) \n",
    "plt.xlim(0,2)"
   ]
  },
  {
   "cell_type": "code",
   "execution_count": 432,
   "metadata": {},
   "outputs": [
    {
     "name": "stdout",
     "output_type": "stream",
     "text": [
      "PyCont curve EQ2 (type EP-C)\n",
      "Using model: Stommel model\n",
      "\n",
      "Model Info\n",
      "---------- \n",
      "\n",
      "  Variables : q\n",
      "  Parameters: mu, F\n",
      "\n",
      "Continuation Parameters\n",
      "----------------------- \n",
      "\n",
      "name  =  EQ2\n",
      "auxpars  =  []\n",
      "freepars  =  ['F']\n",
      "MaxNumPoints  =  650\n",
      "MaxCorrIters  =  5\n",
      "MaxTestIters  =  10\n",
      "MaxStepSize  =  0.01\n",
      "MinStepSize  =  0.01\n",
      "StepSize  =  0.01\n",
      "VarTol  =  1e-06\n",
      "FuncTol  =  1e-06\n",
      "TestTol  =  0.0001\n",
      "LocBifPoints  =  ['LP']\n",
      "verbosity  =  1\n",
      "ClosedCurve  =  50\n",
      "SaveJacobian  =  False\n",
      "SaveEigen  =  True\n",
      "Corrector  =  <bound method Continuation._MoorePenrose of PyCont curve EQ2 (type EP-C)>\n",
      "UseAuto  =  False\n",
      "StopAtPoints  =  []\n",
      "SPOut  =  None\n",
      "\n",
      "\n",
      "Special Points\n",
      "-------------- \n",
      "\n",
      "P1, P2, LP1, LP2\n"
     ]
    }
   ],
   "source": [
    "PC['EQ2'].info()"
   ]
  },
  {
   "cell_type": "code",
   "execution_count": null,
   "metadata": {},
   "outputs": [],
   "source": []
  }
 ],
 "metadata": {
  "kernelspec": {
   "display_name": "Python 3",
   "language": "python",
   "name": "python3"
  },
  "language_info": {
   "codemirror_mode": {
    "name": "ipython",
    "version": 3
   },
   "file_extension": ".py",
   "mimetype": "text/x-python",
   "name": "python",
   "nbconvert_exporter": "python",
   "pygments_lexer": "ipython3",
   "version": "3.7.7"
  }
 },
 "nbformat": 4,
 "nbformat_minor": 2
}
